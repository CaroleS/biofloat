{
 "cells": [
  {
   "cell_type": "markdown",
   "metadata": {},
   "source": [
    "### Build local cache file from Argo data sources\n",
    "*Execute commands to pull data from the Internet into a local HDF file so that we can better interact with the data*"
   ]
  },
  {
   "cell_type": "markdown",
   "metadata": {},
   "source": [
    "On a development system (where we have not executed a `pip install oxyfloat`) we need to add the oxyfloat directory to the Python search path. Do this before starting the notebook server with (replace `~/dev/oxyfloatgit/` with the directory where you cloned the oxyfloat project):\n",
    "\n",
    "```bash\n",
    "export PYTHONPATH=~/dev/oxyfloatgit/\n",
    "cd ~/dev/oxyfloatgit/notebooks\n",
    "ipython notebook\n",
    "```\n",
    "\n",
    "Alternatively, you can set the path interactively, e.g.:"
   ]
  },
  {
   "cell_type": "code",
   "execution_count": 1,
   "metadata": {
    "collapsed": false
   },
   "outputs": [],
   "source": [
    "import sys\n",
    "sys.path.insert(0, 'c:\\Users\\saca\\Documents\\GitHub\\oxyfloat')"
   ]
  },
  {
   "cell_type": "markdown",
   "metadata": {},
   "source": [
    "Import the OxyFloat class and instatiate an OxyFloat object (`of`) with verbosity set to 2 so that we get INFO messages."
   ]
  },
  {
   "cell_type": "code",
   "execution_count": 2,
   "metadata": {
    "collapsed": false
   },
   "outputs": [],
   "source": [
    "from oxyfloat import OxyFloat\n",
    "of = OxyFloat(verbosity=2)"
   ]
  },
  {
   "cell_type": "markdown",
   "metadata": {},
   "source": [
    "You can now explore what methods the of object has by typing `of.` in a cell and pressing the tab key. One of the methods is `get_oxy_floats()`; to see what it does select it and press shift-tab with the cursor in the parantheses of `of.get_oxy_floats()`. Let's get a list of all the floats that have been out for at least 304 days and print the length of that list."
   ]
  },
  {
   "cell_type": "code",
   "execution_count": 3,
   "metadata": {
    "collapsed": false
   },
   "outputs": [
    {
     "name": "stdout",
     "output_type": "stream",
     "text": [
      "563 floats at least 340 days old\n",
      "CPU times: user 159 ms, sys: 55 ms, total: 214 ms\n",
      "Wall time: 278 ms\n"
     ]
    }
   ],
   "source": [
    "%%time\n",
    "floats340 = of.get_oxy_floats(age_gte=340)\n",
    "print('{} floats at least 340 days old'.format(len(floats340)))"
   ]
  },
  {
   "cell_type": "markdown",
   "metadata": {},
   "source": [
    "If this the first time you've executed the cell it will take half minute or so to read the Argo status information from the Internet (the PerformanceWarning can be ignored - for this small table it doesn't matter much). \n",
    "\n",
    "Once the status information is read it is cached locally and further calls to `get_oxy_floats()` will execute much faster. To demonstrate, let's count all the oxygen labeled floats that have been out for at least 2 years. "
   ]
  },
  {
   "cell_type": "code",
   "execution_count": 4,
   "metadata": {
    "collapsed": false
   },
   "outputs": [
    {
     "name": "stdout",
     "output_type": "stream",
     "text": [
      "400 floats at least 730 days old\n",
      "CPU times: user 124 ms, sys: 32 ms, total: 156 ms\n",
      "Wall time: 196 ms\n"
     ]
    }
   ],
   "source": [
    "%%time\n",
    "floats730 = of.get_oxy_floats(age_gte=730)\n",
    "print('{} floats at least 730 days old'.format(len(floats730)))"
   ]
  },
  {
   "cell_type": "markdown",
   "metadata": {},
   "source": [
    "Now let's find the Data Assembly Center URL for each of the floats in our list."
   ]
  },
  {
   "cell_type": "code",
   "execution_count": 5,
   "metadata": {
    "collapsed": false
   },
   "outputs": [
    {
     "name": "stdout",
     "output_type": "stream",
     "text": [
      "562\n",
      "CPU times: user 756 ms, sys: 4 ms, total: 760 ms\n",
      "Wall time: 807 ms\n"
     ]
    }
   ],
   "source": [
    "%%time\n",
    "dac_urls = of.get_dac_urls(floats340)\n",
    "print(len(dac_urls))\n",
    "dac_urls[:5]"
   ]
  },
  {
   "cell_type": "code",
   "execution_count": 6,
   "metadata": {
    "collapsed": true
   },
   "outputs": [],
   "source": [
    "import xray"
   ]
  },
  {
   "cell_type": "code",
   "execution_count": null,
   "metadata": {
    "collapsed": false
   },
   "outputs": [
    {
     "name": "stdout",
     "output_type": "stream",
     "text": [
      "> <ipython-input-7-4a3b5665cf4e>(4)<module>()\n",
      "-> d = of.get_profile_data(url)\n",
      "(Pdb) p ds\n",
      "<xray.Dataset>\n",
      "Dimensions:                       (N_CALIB: 1, N_HISTORY: 4, N_LEVELS: 70, N_PARAM: 4, N_PROF: 1)\n",
      "Coordinates:\n",
      "  * N_CALIB                       (N_CALIB) int64 0\n",
      "  * N_HISTORY                     (N_HISTORY) int64 0 1 2 3\n",
      "  * N_LEVELS                      (N_LEVELS) int64 0 1 2 3 4 5 6 7 8 9 10 11 ...\n",
      "  * N_PARAM                       (N_PARAM) int64 0 1 2 3\n",
      "  * N_PROF                        (N_PROF) int64 0\n",
      "Data variables:\n",
      "    DATA_TYPE                     object 'Argo profile merged             '\n",
      "    FORMAT_VERSION                object '3.1 '\n",
      "    HANDBOOK_VERSION              object '1.2 '\n",
      "    REFERENCE_DATE_TIME           object '19500101000000'\n",
      "    DATE_CREATION                 object '20150603183627'\n",
      "    DATE_UPDATE                   object '20150806164718'\n",
      "    PLATFORM_NUMBER               (N_PROF) object '1900722 '\n",
      "    PROJECT_NAME                  (N_PROF) object 'US ARGO PROJECT                                                 ' ...\n",
      "    PI_NAME                       (N_PROF) object 'STEPHEN RISER                                                   ' ...\n",
      "    STATION_PARAMETERS            (N_PROF, N_PARAM) object 'PRES                                                            ' ...\n",
      "    CYCLE_NUMBER                  (N_PROF) float64 135.0\n",
      "    DIRECTION                     object 'A'\n",
      "    DATA_CENTRE                   (N_PROF) object 'AO'\n",
      "    DC_REFERENCE                  (N_PROF) object '1726_17964_135                  ' ...\n",
      "    DATA_STATE_INDICATOR          (N_PROF) object '2C  '\n",
      "    DATA_MODE                     object 'D'\n",
      "    PARAMETER_DATA_MODE           (N_PROF) object 'DDDR'\n",
      "    PLATFORM_TYPE                 (N_PROF) object 'APEX                            ' ...\n",
      "    FLOAT_SERIAL_NO               (N_PROF) object '2596                            ' ...\n",
      "    FIRMWARE_VERSION              (N_PROF) object '012606                          ' ...\n",
      "    WMO_INST_TYPE                 (N_PROF) object '846 '\n",
      "    JULD                          (N_PROF) datetime64[ns] 2010-07-15T11:19:47.971200 ...\n",
      "    JULD_QC                       object '1'\n",
      "    JULD_LOCATION                 (N_PROF) datetime64[ns] 2010-07-15T13:58:25.968000 ...\n",
      "    LATITUDE                      (N_PROF) float64 -38.31\n",
      "    LONGITUDE                     (N_PROF) float64 87.27\n",
      "    POSITION_QC                   object '1'\n",
      "    POSITIONING_SYSTEM            (N_PROF) object 'ARGOS   '\n",
      "    PROFILE_PRES_QC               object 'A'\n",
      "    PROFILE_TEMP_QC               object 'A'\n",
      "    PROFILE_PSAL_QC               object 'A'\n",
      "    PROFILE_DOXY_QC               object nan\n",
      "    VERTICAL_SAMPLING_SCHEME      (N_PROF) object 'Primary sampling: discrete []                                                                                                                                                                                                                                   ' ...\n",
      "    CONFIG_MISSION_NUMBER         (N_PROF) float64 1.0\n",
      "    PRES                          (N_PROF, N_LEVELS) float64 6.1 10.3 20.5 ...\n",
      "    PRES_QC                       (N_PROF) object '1111111111111111111111111111111111111111111111111111111111111111111111' ...\n",
      "    PRES_ADJUSTED                 (N_PROF, N_LEVELS) float64 5.9 10.1 20.3 ...\n",
      "    PRES_ADJUSTED_QC              (N_PROF) object '1111111111111111111111111111111111111111111111111111111111111111111111' ...\n",
      "    PRES_ADJUSTED_ERROR           (N_PROF, N_LEVELS) float64 2.4 2.4 2.4 2.4 ...\n",
      "    TEMP                          (N_PROF, N_LEVELS) float64 13.07 13.07 ...\n",
      "    TEMP_QC                       (N_PROF) object '1111111111111111111111111111111111111111111111111111111111111111111111' ...\n",
      "    TEMP_ADJUSTED                 (N_PROF, N_LEVELS) float64 13.07 13.07 ...\n",
      "    TEMP_ADJUSTED_QC              (N_PROF) object '1111111111111111111111111111111111111111111111111111111111111111111111' ...\n",
      "    TEMP_ADJUSTED_ERROR           (N_PROF, N_LEVELS) float64 0.002 0.002 ...\n",
      "    PSAL                          (N_PROF, N_LEVELS) float64 35.06 35.06 ...\n",
      "    PSAL_QC                       (N_PROF) object '1111111111111111111111111111111111111111111111111111111111111111111111' ...\n",
      "    PSAL_ADJUSTED                 (N_PROF, N_LEVELS) float64 35.06 35.06 ...\n",
      "    PSAL_ADJUSTED_QC              (N_PROF) object '1111111111111111111111111111111111111111111111111111111111111111111111' ...\n",
      "    PSAL_ADJUSTED_ERROR           (N_PROF, N_LEVELS) float64 0.01 0.01 0.01 ...\n",
      "    DOXY                          (N_PROF, N_LEVELS) float64 229.4 229.4 ...\n",
      "    DOXY_QC                       (N_PROF) object '0000000000000000000000000000000000000000000000000000000000000000000000' ...\n",
      "    DOXY_ADJUSTED                 (N_PROF, N_LEVELS) float64 nan nan nan nan ...\n",
      "    DOXY_ADJUSTED_QC              (N_PROF) object '                                                                      ' ...\n",
      "    DOXY_ADJUSTED_ERROR           (N_PROF, N_LEVELS) float64 nan nan nan nan ...\n",
      "    PARAMETER                     (N_PROF, N_CALIB, N_PARAM) object 'PRES                                                            ' ...\n",
      "    SCIENTIFIC_CALIB_EQUATION     (N_PROF, N_CALIB, N_PARAM) object 'PRES_ADJUSTED = PRES - dP                                                                                                                                                                                                                                       ' ...\n",
      "    SCIENTIFIC_CALIB_COEFFICIENT  (N_PROF, N_CALIB, N_PARAM) object 'dP =0.2 dbar.                                                                                                                                                                                                                                                   ' ...\n",
      "    SCIENTIFIC_CALIB_COMMENT      (N_PROF, N_CALIB, N_PARAM) object 'Pressures adjusted by using pressure offset at the sea surface. The quoted error is manufacturer specified accuracy in dbar.                                                                                                                                    ' ...\n",
      "    SCIENTIFIC_CALIB_DATE         (N_PROF, N_CALIB, N_PARAM) object '20120705140812' ...\n",
      "    HISTORY_INSTITUTION           (N_HISTORY, N_PROF) object 'AO  ' 'AO  ' ...\n",
      "    HISTORY_STEP                  (N_HISTORY, N_PROF) object 'ARGQ' 'ARGQ' ...\n",
      "    HISTORY_SOFTWARE              (N_HISTORY, N_PROF) object 'XXXX' 'XXXX' ...\n",
      "    HISTORY_SOFTWARE_RELEASE      (N_HISTORY, N_PROF) object '    ' '    ' ...\n",
      "    HISTORY_REFERENCE             (N_HISTORY, N_PROF) object '                                                                ' ...\n",
      "    HISTORY_DATE                  (N_HISTORY, N_PROF) object '20120520181853' ...\n",
      "    HISTORY_ACTION                (N_HISTORY, N_PROF) object 'QCP$' 'QCF$' ...\n",
      "    HISTORY_PARAMETER             (N_HISTORY, N_PROF) object '                                                                ' ...\n",
      "    HISTORY_START_PRES            (N_HISTORY, N_PROF) float64 nan nan nan nan\n",
      "    HISTORY_STOP_PRES             (N_HISTORY, N_PROF) float64 nan nan nan nan\n",
      "    HISTORY_PREVIOUS_VALUE        (N_HISTORY, N_PROF) float64 nan nan nan nan\n",
      "    HISTORY_QCTEST                (N_HISTORY, N_PROF) object 'FFBFE           ' ...\n",
      "Attributes:\n",
      "    comment: free text\n",
      "    user_manual_version: 3.1\n",
      "    institution: AOML\n",
      "    title: Argo float vertical profile\n",
      "    Conventions: Argo-3.1 CF-1.6\n",
      "    source: Argo float\n",
      "    featureType: trajectoryProfile\n",
      "    references: http://www.argodatamgt.org/Documentation\n",
      "    DODS_EXTRA: {'Unlimited_Dimension': 'N_HISTORY'}\n",
      "    history: 2015-08-06T16:47:18Z creation\n"
     ]
    }
   ],
   "source": [
    "for url in of.get_profile_opendap_urls(dac_urls[0]):\n",
    "    ds = xray.open_dataset(url)\n",
    "    import pdb; pdb.set_trace()\n",
    "    d = of.get_profile_data(url)\n",
    "    print d\n",
    "    break"
   ]
  },
  {
   "cell_type": "code",
   "execution_count": null,
   "metadata": {
    "collapsed": true
   },
   "outputs": [],
   "source": [
    "ds"
   ]
  },
  {
   "cell_type": "code",
   "execution_count": null,
   "metadata": {
    "collapsed": true
   },
   "outputs": [],
   "source": []
  }
 ],
 "metadata": {
  "kernelspec": {
   "display_name": "Python 2",
   "language": "python",
   "name": "python2"
  },
  "language_info": {
   "codemirror_mode": {
    "name": "ipython",
    "version": 2
   },
   "file_extension": ".py",
   "mimetype": "text/x-python",
   "name": "python",
   "nbconvert_exporter": "python",
   "pygments_lexer": "ipython2",
   "version": "2.7.9"
  }
 },
 "nbformat": 4,
 "nbformat_minor": 0
}
