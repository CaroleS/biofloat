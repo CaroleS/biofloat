{
 "cells": [
  {
   "cell_type": "markdown",
   "metadata": {},
   "source": [
    "### Build local cache file from Argo data sources\n",
    "*Execute commands to pull data from the Internet into a local HDF file so that we can better interact with the data*"
   ]
  },
  {
   "cell_type": "markdown",
   "metadata": {},
   "source": [
    "On a development system (where we have not executed a `pip install oxyfloat`) we need to add the oxyfloat directory to the Python search path. Do this before starting the notebook server with (replace `~/dev/oxyfloatgit/` with the directory where you cloned the oxyfloat project):\n",
    "\n",
    "```bash\n",
    "export PYTHONPATH=~/dev/oxyfloatgit/\n",
    "cd ~/dev/oxyfloatgit/notebooks\n",
    "ipython notebook\n",
    "```"
   ]
  },
  {
   "cell_type": "markdown",
   "metadata": {},
   "source": [
    "Import the OxyFloat class and instatiate an OxyFloat object (`of`) with verbosity set to 2 so that we get INFO messages."
   ]
  },
  {
   "cell_type": "code",
   "execution_count": 1,
   "metadata": {
    "collapsed": false
   },
   "outputs": [],
   "source": [
    "from oxyfloat import OxyFloat\n",
    "of = OxyFloat(verbosity=2)"
   ]
  },
  {
   "cell_type": "markdown",
   "metadata": {},
   "source": [
    "You can now explore what methods the of object has by typing `of.` in a cell and pressing the tab key. One of the methods is `get_oxy_floats()`; to see what it does select it and press shift-tab with the cursor in the parantheses of `of.get_oxy_floats()`. Let's get a list of all the floats that have been out for at least 304 days and print the length of that list."
   ]
  },
  {
   "cell_type": "code",
   "execution_count": 2,
   "metadata": {
    "collapsed": false
   },
   "outputs": [
    {
     "name": "stderr",
     "output_type": "stream",
     "text": [
      "INFO 2015-10-28 15:00:37,982 OxyFloat.py status_to_df():100 Reading data from http://argo.jcommops.org/FTPRoot/Argo/Status/argo_all.txt\n",
      "INFO:oxyfloat.OxyFloat:Reading data from http://argo.jcommops.org/FTPRoot/Argo/Status/argo_all.txt\n",
      "INFO 2015-10-28 15:00:55,621 OxyFloat.py put_df():77 Saving DataFrame to name \"status\" in file /home/mccann/dev/oxyfloatgit/oxyfloat/oxyfloat_cache.hdf\n",
      "INFO:oxyfloat.OxyFloat:Saving DataFrame to name \"status\" in file /home/mccann/dev/oxyfloatgit/oxyfloat/oxyfloat_cache.hdf\n"
     ]
    },
    {
     "name": "stdout",
     "output_type": "stream",
     "text": [
      "563 floats at least 340 days old\n",
      "CPU times: user 366 ms, sys: 161 ms, total: 527 ms\n",
      "Wall time: 17.9 s\n"
     ]
    },
    {
     "name": "stderr",
     "output_type": "stream",
     "text": [
      "/home/mccann/dev/oxyfloatgit/oxyfloat/OxyFloat.py:121: PerformanceWarning: \n",
      "your performance may suffer as PyTables will pickle object types that it cannot\n",
      "map directly to c-types [inferred_type->mixed,key->block2_values] [items->['WMO', 'TELECOM', 'TTYPE', 'MY_ID', 'SERIAL_NO', 'DATE0', 'NOTIF_DATE', 'SHIP', 'CRUISE', 'DATE_', 'MODEL', 'FULL_NAME', 'EMAIL', 'PROGRAM', 'COUNTRY']]\n",
      "\n",
      "  self.put_df(self.status_to_df(), self.STATUS)\n"
     ]
    }
   ],
   "source": [
    "%%time\n",
    "floats340 = of.get_oxy_floats(age_gte=340)\n",
    "print('{} floats at least 340 days old'.format(len(floats340)))"
   ]
  },
  {
   "cell_type": "markdown",
   "metadata": {},
   "source": [
    "If this the first time you've executed the cell it will take half minute or so to read the Argo status information from the Internet (the PerformanceWarning can be ignored - for this small table it doesn't matter much). \n",
    "\n",
    "Once the status information is read it is cached locally and further calls to `get_oxy_floats()` will execute much faster. To demonstrate, let's count all the oxygen labeled floats that have been out for at least 2 years. "
   ]
  },
  {
   "cell_type": "code",
   "execution_count": 3,
   "metadata": {
    "collapsed": false
   },
   "outputs": [
    {
     "name": "stdout",
     "output_type": "stream",
     "text": [
      "400 floats at least 730 days old\n",
      "CPU times: user 133 ms, sys: 3 ms, total: 136 ms\n",
      "Wall time: 167 ms\n"
     ]
    }
   ],
   "source": [
    "%%time\n",
    "floats730 = of.get_oxy_floats(age_gte=730)\n",
    "print('{} floats at least 730 days old'.format(len(floats730)))"
   ]
  },
  {
   "cell_type": "markdown",
   "metadata": {},
   "source": [
    "Now let's find the Data Assembly Center URL for each of the floats in our list."
   ]
  },
  {
   "cell_type": "code",
   "execution_count": 4,
   "metadata": {
    "collapsed": false
   },
   "outputs": [
    {
     "name": "stderr",
     "output_type": "stream",
     "text": [
      "INFO 2015-10-28 15:01:00,372 OxyFloat.py global_meta_to_df():146 Reading data from ftp://ftp.ifremer.fr/ifremer/argo/ar_index_global_meta.txt\n",
      "INFO:oxyfloat.OxyFloat:Reading data from ftp://ftp.ifremer.fr/ifremer/argo/ar_index_global_meta.txt\n",
      "INFO 2015-10-28 15:01:04,239 OxyFloat.py put_df():77 Saving DataFrame to name \"global_meta\" in file /home/mccann/dev/oxyfloatgit/oxyfloat/oxyfloat_cache.hdf\n",
      "INFO:oxyfloat.OxyFloat:Saving DataFrame to name \"global_meta\" in file /home/mccann/dev/oxyfloatgit/oxyfloat/oxyfloat_cache.hdf\n"
     ]
    },
    {
     "name": "stdout",
     "output_type": "stream",
     "text": [
      "562\n"
     ]
    }
   ],
   "source": [
    "dac_urls = of.get_dac_urls(floats340)\n",
    "print(len(dac_urls))"
   ]
  },
  {
   "cell_type": "code",
   "execution_count": null,
   "metadata": {
    "collapsed": true
   },
   "outputs": [],
   "source": []
  }
 ],
 "metadata": {
  "kernelspec": {
   "display_name": "Python 2",
   "language": "python",
   "name": "python2"
  },
  "language_info": {
   "codemirror_mode": {
    "name": "ipython",
    "version": 2
   },
   "file_extension": ".py",
   "mimetype": "text/x-python",
   "name": "python",
   "nbconvert_exporter": "python",
   "pygments_lexer": "ipython2",
   "version": "2.7.9"
  }
 },
 "nbformat": 4,
 "nbformat_minor": 0
}
