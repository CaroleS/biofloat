{
 "cells": [
  {
   "cell_type": "markdown",
   "metadata": {},
   "source": [
    "### Build local cache file from Argo data sources\n",
    "*Execute commands to pull data from the Internet into a local HDF file so that we can better interact with the data*"
   ]
  },
  {
   "cell_type": "markdown",
   "metadata": {},
   "source": [
    "On a development system (where we have not executed a `pip install oxyfloat`) we need to add the oxyfloat directory to the Python search path. Do this before starting the notebook server with (replace `~/dev/oxyfloatgit/` with the directory where you cloned the oxyfloat project):\n",
    "\n",
    "```bash\n",
    "export PYTHONPATH=~/dev/oxyfloatgit/\n",
    "cd ~/dev/oxyfloatgit/notebooks\n",
    "ipython notebook\n",
    "```\n",
    "\n",
    "Alternatively, you can set the path interactively, e.g.:"
   ]
  },
  {
   "cell_type": "code",
   "execution_count": 1,
   "metadata": {
    "collapsed": false
   },
   "outputs": [],
   "source": [
    "import sys\n",
    "sys.path.insert(0, '/home/mccann/dev/oxyfloatgit/')"
   ]
  },
  {
   "cell_type": "markdown",
   "metadata": {},
   "source": [
    "Import the OxyFloat class and instatiate an OxyFloat object (`of`) with verbosity set to 2 so that we get INFO messages."
   ]
  },
  {
   "cell_type": "code",
   "execution_count": 2,
   "metadata": {
    "collapsed": false
   },
   "outputs": [],
   "source": [
    "from oxyfloat import OxyFloat\n",
    "of = OxyFloat(verbosity=2)"
   ]
  },
  {
   "cell_type": "markdown",
   "metadata": {},
   "source": [
    "You can now explore what methods the of object has by typing `of.` in a cell and pressing the tab key. One of the methods is `get_oxy_floats()`; to see what it does select it and press shift-tab with the cursor in the parantheses of `of.get_oxy_floats()`. Let's get a list of all the floats that have been out for at least 304 days and print the length of that list."
   ]
  },
  {
   "cell_type": "code",
   "execution_count": 3,
   "metadata": {
    "collapsed": false
   },
   "outputs": [
    {
     "name": "stderr",
     "output_type": "stream",
     "text": [
      "INFO 2015-10-28 16:15:55,436 OxyFloat.py status_to_df():100 Reading data from http://argo.jcommops.org/FTPRoot/Argo/Status/argo_all.txt\n",
      "INFO:oxyfloat.OxyFloat:Reading data from http://argo.jcommops.org/FTPRoot/Argo/Status/argo_all.txt\n",
      "INFO 2015-10-28 16:16:16,036 OxyFloat.py put_df():77 Saving DataFrame to name \"status\" in file /home/mccann/dev/oxyfloatgit/oxyfloat/oxyfloat_cache.hdf\n",
      "INFO:oxyfloat.OxyFloat:Saving DataFrame to name \"status\" in file /home/mccann/dev/oxyfloatgit/oxyfloat/oxyfloat_cache.hdf\n"
     ]
    },
    {
     "name": "stdout",
     "output_type": "stream",
     "text": [
      "563 floats at least 340 days old\n",
      "CPU times: user 350 ms, sys: 175 ms, total: 525 ms\n",
      "Wall time: 20.9 s\n"
     ]
    },
    {
     "name": "stderr",
     "output_type": "stream",
     "text": [
      "/home/mccann/dev/oxyfloatgit/oxyfloat/OxyFloat.py:130: PerformanceWarning: \n",
      "your performance may suffer as PyTables will pickle object types that it cannot\n",
      "map directly to c-types [inferred_type->mixed,key->block2_values] [items->['WMO', 'TELECOM', 'TTYPE', 'MY_ID', 'SERIAL_NO', 'DATE0', 'NOTIF_DATE', 'SHIP', 'CRUISE', 'DATE_', 'MODEL', 'FULL_NAME', 'EMAIL', 'PROGRAM', 'COUNTRY']]\n",
      "\n",
      "  self.put_df(self.status_to_df(), self.STATUS)\n"
     ]
    }
   ],
   "source": [
    "%%time\n",
    "floats340 = of.get_oxy_floats(age_gte=340)\n",
    "print('{} floats at least 340 days old'.format(len(floats340)))"
   ]
  },
  {
   "cell_type": "markdown",
   "metadata": {},
   "source": [
    "If this the first time you've executed the cell it will take half minute or so to read the Argo status information from the Internet (the PerformanceWarning can be ignored - for this small table it doesn't matter much). \n",
    "\n",
    "Once the status information is read it is cached locally and further calls to `get_oxy_floats()` will execute much faster. To demonstrate, let's count all the oxygen labeled floats that have been out for at least 2 years. "
   ]
  },
  {
   "cell_type": "code",
   "execution_count": 4,
   "metadata": {
    "collapsed": false
   },
   "outputs": [
    {
     "name": "stdout",
     "output_type": "stream",
     "text": [
      "400 floats at least 730 days old\n",
      "CPU times: user 135 ms, sys: 0 ns, total: 135 ms\n",
      "Wall time: 162 ms\n"
     ]
    }
   ],
   "source": [
    "%%time\n",
    "floats730 = of.get_oxy_floats(age_gte=730)\n",
    "print('{} floats at least 730 days old'.format(len(floats730)))"
   ]
  },
  {
   "cell_type": "markdown",
   "metadata": {},
   "source": [
    "Now let's find the Data Assembly Center URL for each of the floats in our list."
   ]
  },
  {
   "cell_type": "code",
   "execution_count": 5,
   "metadata": {
    "collapsed": false
   },
   "outputs": [
    {
     "name": "stderr",
     "output_type": "stream",
     "text": [
      "INFO 2015-10-28 16:16:42,746 OxyFloat.py global_meta_to_df():112 Reading data from ftp://ftp.ifremer.fr/ifremer/argo/ar_index_global_meta.txt\n",
      "INFO:oxyfloat.OxyFloat:Reading data from ftp://ftp.ifremer.fr/ifremer/argo/ar_index_global_meta.txt\n",
      "INFO 2015-10-28 16:16:46,604 OxyFloat.py put_df():77 Saving DataFrame to name \"global_meta\" in file /home/mccann/dev/oxyfloatgit/oxyfloat/oxyfloat_cache.hdf\n",
      "INFO:oxyfloat.OxyFloat:Saving DataFrame to name \"global_meta\" in file /home/mccann/dev/oxyfloatgit/oxyfloat/oxyfloat_cache.hdf\n"
     ]
    },
    {
     "name": "stdout",
     "output_type": "stream",
     "text": [
      "562\n",
      "CPU times: user 849 ms, sys: 10 ms, total: 859 ms\n",
      "Wall time: 4.69 s\n"
     ]
    }
   ],
   "source": [
    "%%time\n",
    "dac_urls = of.get_dac_urls(floats340)\n",
    "print(len(dac_urls))\n",
    "dac_urls[:5]"
   ]
  },
  {
   "cell_type": "code",
   "execution_count": 6,
   "metadata": {
    "collapsed": false
   },
   "outputs": [
    {
     "name": "stdout",
     "output_type": "stream",
     "text": [
      "{'lon': [{'coordinate_reference_frame': 'urn:ogc:crs:EPSG::4326', '_FillValue': 99999.0, 'reference': 'WGS84', 'valid_min': -180.0, 'long_name': 'Longitude of the station, best estimate', 'standard_name': 'longitude', 'units': 'degree_east', 'valid_max': 180.0, 'axis': 'X'}, 87.269999999999996], 'o': [{'_FillValue': 99999.0, 'C_format': '%9.3f', 'resolution': 0.0010000000474974513, 'valid_min': 0.0, 'FORTRAN_format': 'F9.3f', 'long_name': 'Dissolved oxygen', 'standard_name': 'moles_of_oxygen_per_unit_mass_in_sea_water', 'units': 'micromole/kg', 'valid_max': 600.0}, [99999.0, 99999.0, 99999.0, 99999.0, 99999.0, 99999.0, 99999.0, 99999.0, 99999.0, 99999.0, 99999.0, 99999.0, 99999.0, 99999.0, 99999.0, 99999.0, 99999.0, 99999.0, 99999.0, 99999.0, 99999.0, 99999.0, 99999.0, 99999.0, 99999.0, 99999.0, 99999.0, 99999.0, 99999.0, 99999.0, 99999.0, 99999.0, 99999.0, 99999.0, 99999.0, 99999.0, 99999.0, 99999.0, 99999.0, 99999.0, 99999.0, 99999.0, 99999.0, 99999.0, 99999.0, 99999.0, 99999.0, 99999.0, 99999.0, 99999.0, 99999.0, 99999.0, 99999.0, 99999.0, 99999.0, 99999.0, 99999.0, 99999.0, 99999.0, 99999.0, 99999.0, 99999.0, 99999.0, 99999.0, 99999.0, 99999.0, 99999.0, 99999.0, 99999.0, 99999.0]], 'p': [{'_FillValue': 99999.0, 'C_format': '%7.1f', 'resolution': 0.10000000149011612, 'valid_min': 0.0, 'FORTRAN_format': 'F7.1f', 'long_name': 'Sea water pressure, equals 0 at sea-level', 'standard_name': 'sea_water_pressure', 'units': 'decibar', 'valid_max': 12000.0}, [5.900000095367432, 10.100000381469727, 20.299999237060547, 30.100000381469727, 39.79999923706055, 49.900001525878906, 59.70000076293945, 69.69999694824219, 79.9000015258789, 89.9000015258789, 100.0, 110.0, 119.80000305175781, 129.60000610351562, 139.6999969482422, 150.1999969482422, 160.1999969482422, 170.0, 179.5, 189.8000030517578, 199.1999969482422, 210.3000030517578, 220.0, 230.10000610351562, 240.10000610351562, 250.0, 260.29998779296875, 269.79998779296875, 280.1000061035156, 290.20001220703125, 299.5, 309.8999938964844, 319.79998779296875, 329.5, 339.3999938964844, 349.79998779296875, 360.20001220703125, 379.8999938964844, 399.8999938964844, 450.3999938964844, 499.79998779296875, 550.0, 599.5999755859375, 649.5, 700.0999755859375, 749.5999755859375, 799.5999755859375, 850.0, 899.9000244140625, 950.2000122070312, 999.5, 1050.4000244140625, 1099.699951171875, 1150.0, 1199.9000244140625, 1250.0, 1299.800048828125, 1349.5999755859375, 1400.0, 1450.199951171875, 1499.300048828125, 1549.5, 1599.699951171875, 1649.5999755859375, 1699.4000244140625, 1750.4000244140625, 1799.300048828125, 1849.800048828125, 1899.4000244140625, 1949.5]], 's': [{'_FillValue': 99999.0, 'C_format': '%9.3f', 'resolution': 0.0010000000474974513, 'valid_min': 2.0, 'FORTRAN_format': 'F9.3f', 'long_name': 'Practical salinity', 'standard_name': 'sea_water_salinity', 'units': 'psu', 'valid_max': 41.0}, [35.064998626708984, 35.064998626708984, 35.064998626708984, 35.064998626708984, 35.064998626708984, 35.064998626708984, 35.064998626708984, 35.064998626708984, 35.064998626708984, 35.064998626708984, 35.064998626708984, 35.064998626708984, 35.064998626708984, 35.064998626708984, 35.066001892089844, 35.09700012207031, 35.124000549316406, 35.108001708984375, 35.09199905395508, 35.08000183105469, 35.07099914550781, 35.05400085449219, 35.04399871826172, 35.03099822998047, 35.020999908447266, 35.02000045776367, 35.01499938964844, 35.00600051879883, 34.98899841308594, 34.97600173950195, 34.96500015258789, 34.952999114990234, 34.944000244140625, 34.9379997253418, 34.928001403808594, 34.92300033569336, 34.917999267578125, 34.9109992980957, 34.90299987792969, 34.87200164794922, 34.832000732421875, 34.792999267578125, 34.75899887084961, 34.73400115966797, 34.6870002746582, 34.63100051879883, 34.59000015258789, 34.534000396728516, 34.479000091552734, 34.43199920654297, 34.38100051879883, 34.345001220703125, 34.334999084472656, 34.33599853515625, 34.34299850463867, 34.356998443603516, 34.37799835205078, 34.39500045776367, 34.41400146484375, 34.45000076293945, 34.46699905395508, 34.479000091552734, 34.494998931884766, 34.518001556396484, 34.5359992980957, 34.55500030517578, 34.57400131225586, 34.59400177001953, 34.617000579833984, 34.630001068115234]], 't': [{'_FillValue': 99999.0, 'C_format': '%9.3f', 'resolution': 0.0010000000474974513, 'valid_min': -2.5, 'FORTRAN_format': 'F9.3f', 'long_name': 'Sea temperature in-situ ITS-90 scale', 'standard_name': 'sea_water_temperature', 'units': 'degree_Celsius', 'valid_max': 40.0}, [13.067999839782715, 13.071999549865723, 13.071999549865723, 13.074000358581543, 13.074000358581543, 13.074999809265137, 13.07699966430664, 13.07699966430664, 13.07699966430664, 13.079999923706055, 13.081999778747559, 13.081999778747559, 13.083999633789062, 13.083000183105469, 13.07699966430664, 12.746999740600586, 12.711999893188477, 12.527000427246094, 12.392000198364258, 12.300000190734863, 12.22599983215332, 12.109999656677246, 12.027999877929688, 11.944000244140625, 11.862000465393066, 11.836999893188477, 11.802000045776367, 11.746000289916992, 11.645000457763672, 11.572999954223633, 11.494000434875488, 11.418999671936035, 11.362000465393066, 11.322999954223633, 11.263999938964844, 11.232000350952148, 11.199999809265137, 11.14799976348877, 11.083000183105469, 10.87399959564209, 10.625, 10.347000122070312, 10.090999603271484, 9.869999885559082, 9.50100040435791, 9.057999610900879, 8.673999786376953, 8.01200008392334, 7.3420000076293945, 6.738999843597412, 6.0269999504089355, 5.436999797821045, 4.88100004196167, 4.5279998779296875, 4.26800012588501, 4.0229997634887695, 3.805000066757202, 3.63700008392334, 3.4709999561309814, 3.427000045776367, 3.2890000343322754, 3.1570000648498535, 3.0290000438690186, 2.9200000762939453, 2.8540000915527344, 2.7780001163482666, 2.7309999465942383, 2.6760001182556152, 2.625999927520752, 2.5940001010894775]], 'lat': [{'coordinate_reference_frame': 'urn:ogc:crs:EPSG::4326', '_FillValue': 99999.0, 'reference': 'WGS84', 'valid_min': -90.0, 'long_name': 'Latitude of the station, best estimate', 'standard_name': 'latitude', 'units': 'degree_north', 'valid_max': 90.0, 'axis': 'Y'}, -38.308], 'dt': [{'units': 'UTC', 'name': 'time'}, datetime.datetime(2010, 7, 15, 11, 19, 48)]}\n"
     ]
    }
   ],
   "source": [
    "for url in of.get_profile_opendap_urls(dac_urls[0]):\n",
    "    d = of.get_profile_data(url)\n",
    "    print d\n",
    "    break"
   ]
  },
  {
   "cell_type": "code",
   "execution_count": null,
   "metadata": {
    "collapsed": true
   },
   "outputs": [],
   "source": []
  }
 ],
 "metadata": {
  "kernelspec": {
   "display_name": "Python 2",
   "language": "python",
   "name": "python2"
  },
  "language_info": {
   "codemirror_mode": {
    "name": "ipython",
    "version": 2
   },
   "file_extension": ".py",
   "mimetype": "text/x-python",
   "name": "python",
   "nbconvert_exporter": "python",
   "pygments_lexer": "ipython2",
   "version": "2.7.9"
  }
 },
 "nbformat": 4,
 "nbformat_minor": 0
}
