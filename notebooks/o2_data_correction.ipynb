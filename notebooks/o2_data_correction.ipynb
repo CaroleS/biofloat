{
 "cells": [
  {
   "cell_type": "code",
   "execution_count": 1,
   "metadata": {
    "collapsed": false
   },
   "outputs": [],
   "source": [
    "#Saturated Oxygen Data Correction\n",
    "from oxyfloat import OxyFloat, RequiredVariableNotPresent, OpenDAPServerError\n",
    "\n",
    "of = OxyFloat()"
   ]
  },
  {
   "cell_type": "code",
   "execution_count": 2,
   "metadata": {
    "collapsed": false
   },
   "outputs": [
    {
     "name": "stdout",
     "output_type": "stream",
     "text": [
      "Populating the interactive namespace from numpy and matplotlib\n"
     ]
    }
   ],
   "source": [
    "%pylab inline"
   ]
  },
  {
   "cell_type": "code",
   "execution_count": 3,
   "metadata": {
    "collapsed": false
   },
   "outputs": [
    {
     "name": "stdout",
     "output_type": "stream",
     "text": [
      "CPU times: user 358 ms, sys: 167 ms, total: 525 ms\n",
      "Wall time: 40.5 s\n"
     ]
    }
   ],
   "source": [
    "%%time\n",
    "oga_floats = of.get_oxy_floats()"
   ]
  },
  {
   "cell_type": "code",
   "execution_count": 4,
   "metadata": {
    "collapsed": true
   },
   "outputs": [],
   "source": [
    "# Testing with a float that has data\n",
    "oga_floats = ['1900650']\n",
    "test_file = '.nc'"
   ]
  },
  {
   "cell_type": "code",
   "execution_count": 5,
   "metadata": {
    "collapsed": false,
    "scrolled": true
   },
   "outputs": [
    {
     "name": "stdout",
     "output_type": "stream",
     "text": [
      "Reading data from ...IOLIS-ARGO-GDAC-OBS/coriolis/1900650/profiles/D1900650_137.nc\n",
      "Reading data from ...IOLIS-ARGO-GDAC-OBS/coriolis/1900650/profiles/D1900650_135.nc\n",
      "Reading data from ...IOLIS-ARGO-GDAC-OBS/coriolis/1900650/profiles/D1900650_134.nc\n",
      "Reading data from ...IOLIS-ARGO-GDAC-OBS/coriolis/1900650/profiles/D1900650_133.nc\n",
      "Reading data from ...IOLIS-ARGO-GDAC-OBS/coriolis/1900650/profiles/D1900650_132.nc\n",
      "Reading data from ...IOLIS-ARGO-GDAC-OBS/coriolis/1900650/profiles/D1900650_131.nc\n",
      "Break\n"
     ]
    }
   ],
   "source": [
    "i = 0\n",
    "y = []\n",
    "for dac_url in of.get_dac_urls(oga_floats):\n",
    "    for profile_url in of.get_profile_opendap_urls(dac_url):\n",
    "        if test_file:\n",
    "            if not profile_url.endswith(test_file):\n",
    "                continue\n",
    "        i += 1\n",
    "        if i == 7:\n",
    "            print \"Break\"\n",
    "            break\n",
    "        print 'Reading data from ...' + profile_url[40:]\n",
    "        try:\n",
    "            d = of.get_profile_data(profile_url)\n",
    "            y.append(d)\n",
    "        except RequiredVariableNotPresent as e:\n",
    "            print e\n",
    "        except OpenDAPServerError as e:\n",
    "            print e\n",
    "    break"
   ]
  },
  {
   "cell_type": "code",
   "execution_count": 6,
   "metadata": {
    "collapsed": false
   },
   "outputs": [
    {
     "name": "stdout",
     "output_type": "stream",
     "text": [
      "SEA PRESSURE (decibar)\n",
      "[4.5, 6.199999809265137, 9.09999942779541, 14.399999618530273, 19.30000114440918, 24.5, 29.30000114440918, 34.5, 39.400001525878906, 44.29999923706055]\n",
      "DISSOLVED OXYGEN (micromole/kg)\n",
      "[199.9600067138672, 199.5399932861328, 199.52000427246094, 201.66000366210938, 203.85000610351562, 203.85000610351562, 207.5399932861328, 204.80999755859375, 195.13999938964844, 176.66000366210938]\n"
     ]
    }
   ],
   "source": [
    "# Demonstrate reading the data\n",
    "print d['p'][0]['long_name'] + ' (' + d['p'][0]['units'] + ')'\n",
    "print d['p'][1][:10]\n",
    "print d['o'][0]['long_name'] + ' (' + d['o'][0]['units'] + ')'\n",
    "print d['o'][1][:10]"
   ]
  },
  {
   "cell_type": "code",
   "execution_count": 7,
   "metadata": {
    "collapsed": false
   },
   "outputs": [
    {
     "name": "stdout",
     "output_type": "stream",
     "text": [
      "0 206.490005493\n",
      "1 204.11000061\n",
      "2 190.630004883\n",
      "3 195.669998169\n",
      "4 198.949996948\n",
      "5 199.960006714\n",
      "199.301668803\n"
     ]
    }
   ],
   "source": [
    "sum_surf_o2 = 0\n",
    "j = 0\n",
    "for i,prof in enumerate(y):\n",
    "    print i, prof['o'][1][0]\n",
    "    j += 1\n",
    "    sum_surf_o2 += prof['o'][1][0]\n",
    "    \n",
    "print sum_surf_o2 / j\n",
    "    "
   ]
  },
  {
   "cell_type": "code",
   "execution_count": 8,
   "metadata": {
    "collapsed": false,
    "scrolled": false
   },
   "outputs": [
    {
     "data": {
      "text/plain": [
       "<matplotlib.text.Text at 0x7f7bae0bb810>"
      ]
     },
     "execution_count": 8,
     "metadata": {},
     "output_type": "execute_result"
    },
    {
     "data": {
      "image/png": "[encoded data removed]",
      "text/plain": [
       "<matplotlib.figure.Figure at 0x7f7badd15510>"
      ]
     },
     "metadata": {},
     "output_type": "display_data"
    }
   ],
   "source": [
    "for prof in y:\n",
    "    plot(prof['o'][1][:] , prof['p'][1][:] , 'o')\n",
    "\n",
    "title('Float 1900650 (all profiles)')\n",
    "xlabel('DOXY_ADJUSTED in umol/kg')\n",
    "ylabel('PRES_ADJUSTED in decibars')"
   ]
  },
  {
   "cell_type": "code",
   "execution_count": 9,
   "metadata": {
    "collapsed": false
   },
   "outputs": [
    {
     "data": {
      "text/plain": [
       "<matplotlib.text.Text at 0x7f7bae0bb890>"
      ]
     },
     "execution_count": 9,
     "metadata": {},
     "output_type": "execute_result"
    },
    {
     "data": {
      "image/png": "[encoded data removed]",
      "text/plain": [
       "<matplotlib.figure.Figure at 0x7f7bae07a810>"
      ]
     },
     "metadata": {},
     "output_type": "display_data"
    }
   ],
   "source": [
    "plot(d['p'][1][:] , d['o'][1][:] , 'o')\n",
    "title('OXY_ADJUSTED VS. PRES_ADJUSTED')\n",
    "ylabel('DOXY_ADJUSTED in umol/kg')\n",
    "xlabel('PRES_ADJUSTED in decibars')"
   ]
  },
  {
   "cell_type": "markdown",
   "metadata": {},
   "source": [
    "The code below is form the old notebook. Some of it may be folded into oxyfloat functions."
   ]
  },
  {
   "cell_type": "code",
   "execution_count": null,
   "metadata": {
    "collapsed": false,
    "scrolled": true
   },
   "outputs": [],
   "source": [
    "floatLookup = {}\n",
    "for url in urls:\n",
    "    print url\n",
    "    ds = Dataset(url)\n",
    "    floatNum = url.split('/')[9]\n",
    "    print floatNum\n",
    "    p,t,s,o = (ds.variables['PRES_ADJUSTED'][0][0], ds.variables['TEMP_ADJUSTED'][0][0], \n",
    "               ds.variables['PSAL_ADJUSTED'][0][0], ds.variables['DOXY_ADJUSTED'][0][0])\n",
    "    lat,lon,mtime = (ds.variables['LATITUDE'][0], ds.variables['LONGITUDE'][0], ds.variables['JULD'][0])\n",
    "    \n",
    "    # Convert o from micromol/kg to ml/l \n",
    "    ##perc_sat = 100 * convertTomll(o) / satO2(s,t) \n",
    "    print s,t,perc_sat\n",
    "    floatLookup[floatNum] = (p,t,s,o,lat,lon,mtime)"
   ]
  },
  {
   "cell_type": "code",
   "execution_count": null,
   "metadata": {
    "collapsed": false
   },
   "outputs": [],
   "source": [
    "p,t,s,o = (ds.variables['PRES_ADJUSTED'][0][0], ds.variables['TEMP_ADJUSTED'][0][0], ds.variables['PSAL_ADJUSTED'][0][0], ds.variables['DOXY_ADJUSTED'][0][0])"
   ]
  },
  {
   "cell_type": "code",
   "execution_count": null,
   "metadata": {
    "collapsed": false,
    "scrolled": true
   },
   "outputs": [],
   "source": [
    "p,t,s,o"
   ]
  },
  {
   "cell_type": "code",
   "execution_count": null,
   "metadata": {
    "collapsed": false
   },
   "outputs": [],
   "source": [
    "lat,lon,mtime = (ds.variables['LATITUDE'][0], ds.variables['LONGITUDE'][0], ds.variables['JULD'][0])"
   ]
  },
  {
   "cell_type": "code",
   "execution_count": null,
   "metadata": {
    "collapsed": false,
    "scrolled": true
   },
   "outputs": [],
   "source": [
    "lat,lon,mtime"
   ]
  },
  {
   "cell_type": "code",
   "execution_count": null,
   "metadata": {
    "collapsed": true
   },
   "outputs": [],
   "source": [
    "oxygen arange(0. , 651. , 350.) #In umol/kg"
   ]
  },
  {
   "cell_type": "markdown",
   "metadata": {},
   "source": [
    " "
   ]
  },
  {
   "cell_type": "markdown",
   "metadata": {},
   "source": [
    " "
   ]
  },
  {
   "cell_type": "code",
   "execution_count": 2,
   "metadata": {
    "collapsed": false
   },
   "outputs": [
    {
     "name": "stdout",
     "output_type": "stream",
     "text": [
      "Populating the interactive namespace from numpy and matplotlib\n"
     ]
    }
   ],
   "source": [
    "%pylab inline"
   ]
  },
  {
   "cell_type": "code",
   "execution_count": 3,
   "metadata": {
    "collapsed": false
   },
   "outputs": [],
   "source": [
    "oxygen = arange(0. , 651. , 50.) #In umol/kg\n",
    "pressure = arange(0. , 13001. , 1000.) #In decibars"
   ]
  },
  {
   "cell_type": "code",
   "execution_count": 4,
   "metadata": {
    "collapsed": false
   },
   "outputs": [
    {
     "data": {
      "text/plain": [
       "array([   0.,   50.,  100.,  150.,  200.,  250.,  300.,  350.,  400.,\n",
       "        450.,  500.,  550.,  600.,  650.])"
      ]
     },
     "execution_count": 4,
     "metadata": {},
     "output_type": "execute_result"
    }
   ],
   "source": [
    "oxygen"
   ]
  },
  {
   "cell_type": "code",
   "execution_count": 5,
   "metadata": {
    "collapsed": false
   },
   "outputs": [
    {
     "data": {
      "text/plain": [
       "array([     0.,   1000.,   2000.,   3000.,   4000.,   5000.,   6000.,\n",
       "         7000.,   8000.,   9000.,  10000.,  11000.,  12000.,  13000.])"
      ]
     },
     "execution_count": 5,
     "metadata": {},
     "output_type": "execute_result"
    }
   ],
   "source": [
    "pressure"
   ]
  },
  {
   "cell_type": "code",
   "execution_count": 6,
   "metadata": {
    "collapsed": false
   },
   "outputs": [
    {
     "data": {
      "text/plain": [
       "<matplotlib.text.Text at 0x9968fd0>"
      ]
     },
     "execution_count": 6,
     "metadata": {},
     "output_type": "execute_result"
    },
    {
     "data": {
      "image/png": "[encoded data removed]",
      "text/plain": [
       "<matplotlib.figure.Figure at 0x98d6588>"
      ]
     },
     "metadata": {},
     "output_type": "display_data"
    }
   ],
   "source": [
    "plot(oxygen , pressure , 'o')\n",
    "title('OXY_ADJUSTED VS. PRES_ADJUSTED')\n",
    "xlabel('DOXY_ADJUSTED in umol/kg')\n",
    "ylabel('PRES_ADJUSTED in decibars')"
   ]
  },
  {
   "cell_type": "code",
   "execution_count": 7,
   "metadata": {
    "collapsed": true
   },
   "outputs": [],
   "source": [
    "oxy = array([650. , 532.1 , 420.9 , 357.43 , 231.2 , 101.1 , 85.4])\n",
    "\n",
    "\n",
    "pres = array([12000. , 8943.32 , 5421.8 , 4932.7 , 3547.19 , 2017.69 , 958.3])"
   ]
  },
  {
   "cell_type": "code",
   "execution_count": 8,
   "metadata": {
    "collapsed": false
   },
   "outputs": [
    {
     "data": {
      "text/plain": [
       "<matplotlib.text.Text at 0x9972c88>"
      ]
     },
     "execution_count": 8,
     "metadata": {},
     "output_type": "execute_result"
    },
    {
     "data": {
      "image/png": "[encoded data removed]",
      "text/plain": [
       "<matplotlib.figure.Figure at 0x9b234e0>"
      ]
     },
     "metadata": {},
     "output_type": "display_data"
    }
   ],
   "source": [
    "plot(oxy , pres , 'o')\n",
    "title('OXY_ADJUSTED VS. PRES_ADJUSTED')\n",
    "xlabel('DOXY_ADJUSTED in umol/kg')\n",
    "ylabel('PRES_ADJUSTED in decibars')"
   ]
  },
  {
   "cell_type": "code",
   "execution_count": 20,
   "metadata": {
    "collapsed": false
   },
   "outputs": [],
   "source": [
    "y = []\n",
    "\n",
    "x = arange(1 , 10)\n",
    "\n",
    "for x in range(10):\n",
    "    y.append(x)"
   ]
  },
  {
   "cell_type": "code",
   "execution_count": 21,
   "metadata": {
    "collapsed": false
   },
   "outputs": [
    {
     "name": "stdout",
     "output_type": "stream",
     "text": [
      "[0, 1, 2, 3, 4, 5, 6, 7, 8, 9]\n"
     ]
    }
   ],
   "source": [
    "print y"
   ]
  }
 ],
 "metadata": {
  "kernelspec": {
   "display_name": "Python 2",
   "language": "python",
   "name": "python2"
  },
  "language_info": {
   "codemirror_mode": {
    "name": "ipython",
    "version": 2
   },
   "file_extension": ".py",
   "mimetype": "text/x-python",
   "name": "python",
   "nbconvert_exporter": "python",
   "pygments_lexer": "ipython2",
   "version": "2.7.9"
  }
 },
 "nbformat": 4,
 "nbformat_minor": 0
}
