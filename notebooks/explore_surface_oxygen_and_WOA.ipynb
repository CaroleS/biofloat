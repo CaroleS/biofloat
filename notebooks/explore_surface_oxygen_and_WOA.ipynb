{
 "cells": [
  {
   "cell_type": "markdown",
   "metadata": {},
   "source": [
    "### Explore surface Argo oxygen float and World Ocean Atlas data\n",
    "*Get cached surface data and compare with data from the World Ocean Atlas*"
   ]
  },
  {
   "cell_type": "markdown",
   "metadata": {},
   "source": [
    "Build small local cache of some upper 10 decibar data:\n",
    "\n",
    "```bash\n",
    "scripts/load_cache.py --age 2700 --pressure 10 -v\n",
    "```"
   ]
  },
  {
   "cell_type": "markdown",
   "metadata": {},
   "source": [
    "Add parent directory to the path and get an ArgoData object that uses the local cache built with above command."
   ]
  },
  {
   "cell_type": "code",
   "execution_count": 1,
   "metadata": {
    "collapsed": true
   },
   "outputs": [],
   "source": [
    "import sys\n",
    "sys.path.insert(0, '../')\n",
    "\n",
    "from oxyfloat import ArgoData\n",
    "ad = ArgoData(cache_file='../oxyfloat/oxyfloat_fixed_cache_age2700_pressure10.hdf')"
   ]
  },
  {
   "cell_type": "markdown",
   "metadata": {},
   "source": [
    "Get a Pandas DataFrame of all the data in this cache file."
   ]
  },
  {
   "cell_type": "code",
   "execution_count": 2,
   "metadata": {
    "collapsed": false
   },
   "outputs": [
    {
     "name": "stdout",
     "output_type": "stream",
     "text": [
      "CPU times: user 20.5 s, sys: 489 ms, total: 21 s\n",
      "Wall time: 50.7 s\n"
     ]
    }
   ],
   "source": [
    "%%time\n",
    "wmo_list = ad.get_oxy_floats_from_status(2700)\n",
    "df = ad.get_float_dataframe(wmo_list)"
   ]
  },
  {
   "cell_type": "markdown",
   "metadata": {},
   "source": [
    "See where these floats have been (bounding box coordinates adjusted)."
   ]
  },
  {
   "cell_type": "code",
   "execution_count": 3,
   "metadata": {
    "collapsed": false
   },
   "outputs": [
    {
     "name": "stdout",
     "output_type": "stream",
     "text": [
      "Populating the interactive namespace from numpy and matplotlib\n"
     ]
    },
    {
     "name": "stderr",
     "output_type": "stream",
     "text": [
      "/home/mccann/VirtualEnvs/oxyfloat/lib/python2.7/site-packages/matplotlib/collections.py:590: FutureWarning: elementwise comparison failed; returning scalar instead, but in the future will perform elementwise comparison\n",
      "  if self._edgecolors == str('face'):\n"
     ]
    },
    {
     "data": {
      "image/png": "[encoded data removed]",
      "text/plain": [
       "<matplotlib.figure.Figure at 0x7f7145d9fd90>"
      ]
     },
     "metadata": {},
     "output_type": "display_data"
    }
   ],
   "source": [
    "%pylab inline\n",
    "import pylab as plt\n",
    "from mpl_toolkits.basemap import Basemap\n",
    "\n",
    "def map(lons, lats):\n",
    "    m = Basemap(llcrnrlon=40, llcrnrlat=-60, urcrnrlon=160, urcrnrlat=50, projection='cyl')\n",
    "    m.fillcontinents(color='0.8')\n",
    "    m.scatter(lons, lats, latlon=True, color='red')\n",
    "\n",
    "map(df.index.get_level_values('lon'), df.index.get_level_values('lat'))"
   ]
  },
  {
   "cell_type": "markdown",
   "metadata": {},
   "source": [
    "Collapse the surface values into a single value with a `.mean()` (can try doing a `.median()`)."
   ]
  },
  {
   "cell_type": "code",
   "execution_count": 4,
   "metadata": {
    "collapsed": false
   },
   "outputs": [
    {
     "data": {
      "text/html": [
       "<div>\n",
       "<table border=\"1\" class=\"dataframe\">\n",
       "  <thead>\n",
       "    <tr style=\"text-align: right;\">\n",
       "      <th></th>\n",
       "      <th></th>\n",
       "      <th></th>\n",
       "      <th></th>\n",
       "      <th>DOXY_ADJUSTED</th>\n",
       "      <th>PSAL_ADJUSTED</th>\n",
       "      <th>TEMP_ADJUSTED</th>\n",
       "    </tr>\n",
       "    <tr>\n",
       "      <th>wmo</th>\n",
       "      <th>time</th>\n",
       "      <th>lon</th>\n",
       "      <th>lat</th>\n",
       "      <th></th>\n",
       "      <th></th>\n",
       "      <th></th>\n",
       "    </tr>\n",
       "  </thead>\n",
       "  <tbody>\n",
       "    <tr>\n",
       "      <th rowspan=\"5\" valign=\"top\">2900791</th>\n",
       "      <th>2006-09-20 09:29:52.972800</th>\n",
       "      <th>129.959</th>\n",
       "      <th>37.144</th>\n",
       "      <td>234.593185</td>\n",
       "      <td>32.660000</td>\n",
       "      <td>23.056999</td>\n",
       "    </tr>\n",
       "    <tr>\n",
       "      <th>2006-09-30 09:48:41.011200</th>\n",
       "      <th>129.824</th>\n",
       "      <th>37.221</th>\n",
       "      <td>212.985397</td>\n",
       "      <td>32.917999</td>\n",
       "      <td>23.195999</td>\n",
       "    </tr>\n",
       "    <tr>\n",
       "      <th>2006-10-10 10:03:30.499200</th>\n",
       "      <th>129.797</th>\n",
       "      <th>37.359</th>\n",
       "      <td>209.771835</td>\n",
       "      <td>32.834000</td>\n",
       "      <td>21.874001</td>\n",
       "    </tr>\n",
       "    <tr>\n",
       "      <th>2006-10-20 10:11:33.993600</th>\n",
       "      <th>129.678</th>\n",
       "      <th>37.574</th>\n",
       "      <td>223.353577</td>\n",
       "      <td>32.723999</td>\n",
       "      <td>20.188000</td>\n",
       "    </tr>\n",
       "    <tr>\n",
       "      <th>2006-10-30 10:07:38.985600</th>\n",
       "      <th>129.863</th>\n",
       "      <th>37.456</th>\n",
       "      <td>245.136032</td>\n",
       "      <td>33.106998</td>\n",
       "      <td>17.419001</td>\n",
       "    </tr>\n",
       "  </tbody>\n",
       "</table>\n",
       "</div>"
      ],
      "text/plain": [
       "                                                   DOXY_ADJUSTED  \\\n",
       "wmo     time                       lon     lat                     \n",
       "2900791 2006-09-20 09:29:52.972800 129.959 37.144     234.593185   \n",
       "        2006-09-30 09:48:41.011200 129.824 37.221     212.985397   \n",
       "        2006-10-10 10:03:30.499200 129.797 37.359     209.771835   \n",
       "        2006-10-20 10:11:33.993600 129.678 37.574     223.353577   \n",
       "        2006-10-30 10:07:38.985600 129.863 37.456     245.136032   \n",
       "\n",
       "                                                   PSAL_ADJUSTED  \\\n",
       "wmo     time                       lon     lat                     \n",
       "2900791 2006-09-20 09:29:52.972800 129.959 37.144      32.660000   \n",
       "        2006-09-30 09:48:41.011200 129.824 37.221      32.917999   \n",
       "        2006-10-10 10:03:30.499200 129.797 37.359      32.834000   \n",
       "        2006-10-20 10:11:33.993600 129.678 37.574      32.723999   \n",
       "        2006-10-30 10:07:38.985600 129.863 37.456      33.106998   \n",
       "\n",
       "                                                   TEMP_ADJUSTED  \n",
       "wmo     time                       lon     lat                    \n",
       "2900791 2006-09-20 09:29:52.972800 129.959 37.144      23.056999  \n",
       "        2006-09-30 09:48:41.011200 129.824 37.221      23.195999  \n",
       "        2006-10-10 10:03:30.499200 129.797 37.359      21.874001  \n",
       "        2006-10-20 10:11:33.993600 129.678 37.574      20.188000  \n",
       "        2006-10-30 10:07:38.985600 129.863 37.456      17.419001  "
      ]
     },
     "execution_count": 4,
     "metadata": {},
     "output_type": "execute_result"
    }
   ],
   "source": [
    "import pandas as pd\n",
    "sdf = df.query('pressure < 10').groupby(level=['wmo', 'time', 'lon', 'lat']).mean()\n",
    "sdf.head()"
   ]
  },
  {
   "cell_type": "markdown",
   "metadata": {},
   "source": [
    "Before computing monthly means let's add lat, lon, wmo, and month and year numbers to the DataFrame."
   ]
  },
  {
   "cell_type": "code",
   "execution_count": 5,
   "metadata": {
    "collapsed": false
   },
   "outputs": [],
   "source": [
    "sdf['lon'] = sdf.index.get_level_values('lon')\n",
    "sdf['lat'] = sdf.index.get_level_values('lat')\n",
    "sdf['month'] = sdf.index.get_level_values('time').month\n",
    "sdf['year'] = sdf.index.get_level_values('time').year\n",
    "sdf['wmo'] = sdf.index.get_level_values('wmo')"
   ]
  },
  {
   "cell_type": "markdown",
   "metadata": {},
   "source": [
    "Compute the monthly means and add percent saturation column using the Gibbs SeaWater Oceanographic Package of TEOS-10."
   ]
  },
  {
   "cell_type": "code",
   "execution_count": 6,
   "metadata": {
    "collapsed": false
   },
   "outputs": [
    {
     "data": {
      "text/html": [
       "<div>\n",
       "<table border=\"1\" class=\"dataframe\">\n",
       "  <thead>\n",
       "    <tr style=\"text-align: right;\">\n",
       "      <th></th>\n",
       "      <th></th>\n",
       "      <th></th>\n",
       "      <th>DOXY_ADJUSTED</th>\n",
       "      <th>PSAL_ADJUSTED</th>\n",
       "      <th>TEMP_ADJUSTED</th>\n",
       "      <th>lon</th>\n",
       "      <th>lat</th>\n",
       "      <th>o2sat</th>\n",
       "    </tr>\n",
       "    <tr>\n",
       "      <th>wmo</th>\n",
       "      <th>year</th>\n",
       "      <th>month</th>\n",
       "      <th></th>\n",
       "      <th></th>\n",
       "      <th></th>\n",
       "      <th></th>\n",
       "      <th></th>\n",
       "      <th></th>\n",
       "    </tr>\n",
       "  </thead>\n",
       "  <tbody>\n",
       "    <tr>\n",
       "      <th rowspan=\"10\" valign=\"top\">2900791</th>\n",
       "      <th rowspan=\"4\" valign=\"top\">2006</th>\n",
       "      <th>9</th>\n",
       "      <td>223.789291</td>\n",
       "      <td>32.789000</td>\n",
       "      <td>23.126499</td>\n",
       "      <td>129.891500</td>\n",
       "      <td>37.182500</td>\n",
       "      <td>103.571843</td>\n",
       "    </tr>\n",
       "    <tr>\n",
       "      <th>10</th>\n",
       "      <td>226.087148</td>\n",
       "      <td>32.888332</td>\n",
       "      <td>19.827000</td>\n",
       "      <td>129.779333</td>\n",
       "      <td>37.463000</td>\n",
       "      <td>98.707725</td>\n",
       "    </tr>\n",
       "    <tr>\n",
       "      <th>11</th>\n",
       "      <td>198.039803</td>\n",
       "      <td>33.677500</td>\n",
       "      <td>17.949499</td>\n",
       "      <td>130.361500</td>\n",
       "      <td>37.569000</td>\n",
       "      <td>83.929838</td>\n",
       "    </tr>\n",
       "    <tr>\n",
       "      <th>12</th>\n",
       "      <td>217.958344</td>\n",
       "      <td>33.867001</td>\n",
       "      <td>15.691000</td>\n",
       "      <td>131.073500</td>\n",
       "      <td>37.507000</td>\n",
       "      <td>88.542520</td>\n",
       "    </tr>\n",
       "    <tr>\n",
       "      <th rowspan=\"6\" valign=\"top\">2007</th>\n",
       "      <th>1</th>\n",
       "      <td>232.876770</td>\n",
       "      <td>34.074570</td>\n",
       "      <td>13.600500</td>\n",
       "      <td>130.967000</td>\n",
       "      <td>37.297000</td>\n",
       "      <td>90.845943</td>\n",
       "    </tr>\n",
       "    <tr>\n",
       "      <th>4</th>\n",
       "      <td>280.649780</td>\n",
       "      <td>34.340000</td>\n",
       "      <td>12.953000</td>\n",
       "      <td>130.531000</td>\n",
       "      <td>37.014000</td>\n",
       "      <td>108.234179</td>\n",
       "    </tr>\n",
       "    <tr>\n",
       "      <th>6</th>\n",
       "      <td>234.491043</td>\n",
       "      <td>34.237999</td>\n",
       "      <td>18.377001</td>\n",
       "      <td>131.320000</td>\n",
       "      <td>37.034000</td>\n",
       "      <td>100.561157</td>\n",
       "    </tr>\n",
       "    <tr>\n",
       "      <th>7</th>\n",
       "      <td>218.986786</td>\n",
       "      <td>33.944000</td>\n",
       "      <td>20.979000</td>\n",
       "      <td>131.656000</td>\n",
       "      <td>36.841000</td>\n",
       "      <td>98.316178</td>\n",
       "    </tr>\n",
       "    <tr>\n",
       "      <th>8</th>\n",
       "      <td>232.108266</td>\n",
       "      <td>33.630000</td>\n",
       "      <td>24.412333</td>\n",
       "      <td>131.871333</td>\n",
       "      <td>36.986000</td>\n",
       "      <td>110.424183</td>\n",
       "    </tr>\n",
       "    <tr>\n",
       "      <th>9</th>\n",
       "      <td>210.026382</td>\n",
       "      <td>32.914332</td>\n",
       "      <td>22.781000</td>\n",
       "      <td>132.062333</td>\n",
       "      <td>37.012667</td>\n",
       "      <td>96.697382</td>\n",
       "    </tr>\n",
       "  </tbody>\n",
       "</table>\n",
       "</div>"
      ],
      "text/plain": [
       "                    DOXY_ADJUSTED  PSAL_ADJUSTED  TEMP_ADJUSTED         lon  \\\n",
       "wmo     year month                                                            \n",
       "2900791 2006 9         223.789291      32.789000      23.126499  129.891500   \n",
       "             10        226.087148      32.888332      19.827000  129.779333   \n",
       "             11        198.039803      33.677500      17.949499  130.361500   \n",
       "             12        217.958344      33.867001      15.691000  131.073500   \n",
       "        2007 1         232.876770      34.074570      13.600500  130.967000   \n",
       "             4         280.649780      34.340000      12.953000  130.531000   \n",
       "             6         234.491043      34.237999      18.377001  131.320000   \n",
       "             7         218.986786      33.944000      20.979000  131.656000   \n",
       "             8         232.108266      33.630000      24.412333  131.871333   \n",
       "             9         210.026382      32.914332      22.781000  132.062333   \n",
       "\n",
       "                          lat       o2sat  \n",
       "wmo     year month                         \n",
       "2900791 2006 9      37.182500  103.571843  \n",
       "             10     37.463000   98.707725  \n",
       "             11     37.569000   83.929838  \n",
       "             12     37.507000   88.542520  \n",
       "        2007 1      37.297000   90.845943  \n",
       "             4      37.014000  108.234179  \n",
       "             6      37.034000  100.561157  \n",
       "             7      36.841000   98.316178  \n",
       "             8      36.986000  110.424183  \n",
       "             9      37.012667   96.697382  "
      ]
     },
     "execution_count": 6,
     "metadata": {},
     "output_type": "execute_result"
    }
   ],
   "source": [
    "msdf = sdf.groupby(['wmo', 'year', 'month']).mean()\n",
    "\n",
    "from oxyfloat.utils import o2sat, convert_to_mll\n",
    "msdf['o2sat'] = 100 * (msdf.DOXY_ADJUSTED / o2sat(msdf.PSAL_ADJUSTED, msdf.TEMP_ADJUSTED))\n",
    "msdf.head(10)"
   ]
  },
  {
   "cell_type": "markdown",
   "metadata": {},
   "source": [
    "Add columns `ilon` & `ilat` ('i', for index) rounding lat and lon to nearest 0.5 degree mark to facilitate lookups from the World Ocean Atlas. "
   ]
  },
  {
   "cell_type": "code",
   "execution_count": 7,
   "metadata": {
    "collapsed": false
   },
   "outputs": [
    {
     "data": {
      "text/html": [
       "<div>\n",
       "<table border=\"1\" class=\"dataframe\">\n",
       "  <thead>\n",
       "    <tr style=\"text-align: right;\">\n",
       "      <th></th>\n",
       "      <th></th>\n",
       "      <th></th>\n",
       "      <th>DOXY_ADJUSTED</th>\n",
       "      <th>PSAL_ADJUSTED</th>\n",
       "      <th>TEMP_ADJUSTED</th>\n",
       "      <th>lon</th>\n",
       "      <th>lat</th>\n",
       "      <th>o2sat</th>\n",
       "      <th>ilon</th>\n",
       "      <th>ilat</th>\n",
       "    </tr>\n",
       "    <tr>\n",
       "      <th>wmo</th>\n",
       "      <th>year</th>\n",
       "      <th>month</th>\n",
       "      <th></th>\n",
       "      <th></th>\n",
       "      <th></th>\n",
       "      <th></th>\n",
       "      <th></th>\n",
       "      <th></th>\n",
       "      <th></th>\n",
       "      <th></th>\n",
       "    </tr>\n",
       "  </thead>\n",
       "  <tbody>\n",
       "    <tr>\n",
       "      <th rowspan=\"5\" valign=\"top\">2900791</th>\n",
       "      <th rowspan=\"4\" valign=\"top\">2006</th>\n",
       "      <th>9</th>\n",
       "      <td>223.789291</td>\n",
       "      <td>32.789000</td>\n",
       "      <td>23.126499</td>\n",
       "      <td>129.891500</td>\n",
       "      <td>37.1825</td>\n",
       "      <td>103.571843</td>\n",
       "      <td>129.5</td>\n",
       "      <td>37.5</td>\n",
       "    </tr>\n",
       "    <tr>\n",
       "      <th>10</th>\n",
       "      <td>226.087148</td>\n",
       "      <td>32.888332</td>\n",
       "      <td>19.827000</td>\n",
       "      <td>129.779333</td>\n",
       "      <td>37.4630</td>\n",
       "      <td>98.707725</td>\n",
       "      <td>129.5</td>\n",
       "      <td>37.5</td>\n",
       "    </tr>\n",
       "    <tr>\n",
       "      <th>11</th>\n",
       "      <td>198.039803</td>\n",
       "      <td>33.677500</td>\n",
       "      <td>17.949499</td>\n",
       "      <td>130.361500</td>\n",
       "      <td>37.5690</td>\n",
       "      <td>83.929838</td>\n",
       "      <td>130.5</td>\n",
       "      <td>37.5</td>\n",
       "    </tr>\n",
       "    <tr>\n",
       "      <th>12</th>\n",
       "      <td>217.958344</td>\n",
       "      <td>33.867001</td>\n",
       "      <td>15.691000</td>\n",
       "      <td>131.073500</td>\n",
       "      <td>37.5070</td>\n",
       "      <td>88.542520</td>\n",
       "      <td>131.5</td>\n",
       "      <td>37.5</td>\n",
       "    </tr>\n",
       "    <tr>\n",
       "      <th>2007</th>\n",
       "      <th>1</th>\n",
       "      <td>232.876770</td>\n",
       "      <td>34.074570</td>\n",
       "      <td>13.600500</td>\n",
       "      <td>130.967000</td>\n",
       "      <td>37.2970</td>\n",
       "      <td>90.845943</td>\n",
       "      <td>130.5</td>\n",
       "      <td>37.5</td>\n",
       "    </tr>\n",
       "  </tbody>\n",
       "</table>\n",
       "</div>"
      ],
      "text/plain": [
       "                    DOXY_ADJUSTED  PSAL_ADJUSTED  TEMP_ADJUSTED         lon  \\\n",
       "wmo     year month                                                            \n",
       "2900791 2006 9         223.789291      32.789000      23.126499  129.891500   \n",
       "             10        226.087148      32.888332      19.827000  129.779333   \n",
       "             11        198.039803      33.677500      17.949499  130.361500   \n",
       "             12        217.958344      33.867001      15.691000  131.073500   \n",
       "        2007 1         232.876770      34.074570      13.600500  130.967000   \n",
       "\n",
       "                        lat       o2sat   ilon  ilat  \n",
       "wmo     year month                                    \n",
       "2900791 2006 9      37.1825  103.571843  129.5  37.5  \n",
       "             10     37.4630   98.707725  129.5  37.5  \n",
       "             11     37.5690   83.929838  130.5  37.5  \n",
       "             12     37.5070   88.542520  131.5  37.5  \n",
       "        2007 1      37.2970   90.845943  130.5  37.5  "
      ]
     },
     "execution_count": 7,
     "metadata": {},
     "output_type": "execute_result"
    }
   ],
   "source": [
    "def round_to(n, increment, mark):\n",
    "    correction = mark if n >= 0 else -mark\n",
    "    return int( n / increment) + correction\n",
    "\n",
    "imsdf = msdf.copy()\n",
    "imsdf['ilon'] = msdf.apply(lambda x: round_to(x.lon, 1, 0.5), axis=1)\n",
    "imsdf['ilat'] = msdf.apply(lambda x: round_to(x.lat, 1, 0.5), axis=1)\n",
    "imsdf.head()"
   ]
  },
  {
   "cell_type": "markdown",
   "metadata": {},
   "source": [
    "Build a dictionary (`woa`) of OpenDAP monthly URLs to the o2sat data."
   ]
  },
  {
   "cell_type": "code",
   "execution_count": 8,
   "metadata": {
    "collapsed": false
   },
   "outputs": [],
   "source": [
    "woa_tmpl = 'http://data.nodc.noaa.gov/thredds/dodsC/woa/WOA13/DATA/o2sat/netcdf/all/1.00/woa13_all_O{:02d}_01.nc'\n",
    "woa = {}\n",
    "for m in range(1,13):\n",
    "    woa[m] = woa_tmpl.format(m)"
   ]
  },
  {
   "cell_type": "markdown",
   "metadata": {},
   "source": [
    "Define a function to get WOA `O_an` (Objectively analyzed mean fields for fractional_saturation_of_oxygen_in_seawater at standard depth) variable given a month, depth, latitude, and longitude."
   ]
  },
  {
   "cell_type": "code",
   "execution_count": 9,
   "metadata": {
    "collapsed": false
   },
   "outputs": [],
   "source": [
    "import xray\n",
    "def woa_o2sat(month, depth, lon, lat):\n",
    "    ds = xray.open_dataset(woa[month], decode_times=False)\n",
    "    return ds.loc[dict(lon=lon, lat=lat, depth=depth)]['O_an'].values[0]"
   ]
  },
  {
   "cell_type": "markdown",
   "metadata": {},
   "source": [
    "Add the woa_o2sat column to our DataFrame."
   ]
  },
  {
   "cell_type": "code",
   "execution_count": 10,
   "metadata": {
    "collapsed": false
   },
   "outputs": [
    {
     "name": "stdout",
     "output_type": "stream",
     "text": [
      "CPU times: user 1.73 s, sys: 125 ms, total: 1.85 s\n",
      "Wall time: 1min 15s\n"
     ]
    }
   ],
   "source": [
    "%%time\n",
    "woadf = imsdf.copy()\n",
    "woadf['month'] = woadf.index.get_level_values('month')\n",
    "woadf['woa_o2sat'] = woadf.apply(lambda x: woa_o2sat(x.month, 5.0, x.ilon, x.ilat), axis=1)"
   ]
  },
  {
   "cell_type": "markdown",
   "metadata": {},
   "source": [
    "The above takes about 3 minutes to do the WOA lookups, so let's copy the 'o2' coluimns of the result to a DataFrame that we'll use for calculating the gain over time for each float. Add `wmo` column back and make a Python datetime index."
   ]
  },
  {
   "cell_type": "code",
   "execution_count": 11,
   "metadata": {
    "collapsed": false
   },
   "outputs": [],
   "source": [
    "gdf = woadf[['o2sat', 'woa_o2sat']].copy()\n",
    "gdf['wmo'] = gdf.index.get_level_values('wmo')\n",
    "years = gdf.index.get_level_values('year')\n",
    "months = gdf.index.get_level_values('month')\n",
    "gdf['date'] = pd.to_datetime(years * 100 + months, format='%Y%m')"
   ]
  },
  {
   "cell_type": "markdown",
   "metadata": {},
   "source": [
    "Plot the gain over time for each of the floats."
   ]
  },
  {
   "cell_type": "code",
   "execution_count": 12,
   "metadata": {
    "collapsed": false
   },
   "outputs": [
    {
     "name": "stderr",
     "output_type": "stream",
     "text": [
      "/home/mccann/VirtualEnvs/oxyfloat/lib/python2.7/site-packages/pandas/core/index.py:4281: FutureWarning: elementwise comparison failed; returning scalar instead, but in the future will perform elementwise comparison\n",
      "  return np.sum(name == np.asarray(self.names)) > 1\n"
     ]
    },
    {
     "data": {
      "text/plain": [
       "<matplotlib.axes._subplots.AxesSubplot at 0x7f7140dfaa90>"
      ]
     },
     "execution_count": 12,
     "metadata": {},
     "output_type": "execute_result"
    },
    {
     "data": {
      "image/png": "[encoded data removed]",
      "text/plain": [
       "<matplotlib.figure.Figure at 0x7f7148220cd0>"
      ]
     },
     "metadata": {},
     "output_type": "display_data"
    }
   ],
   "source": [
    "import matplotlib as plt\n",
    "plt.style.use('ggplot')\n",
    "plt.rcParams['figure.figsize'] = (18.0, 4.0)\n",
    "gdf[['o2sat', 'woa_o2sat']].unstack(level=0).plot()\n",
    "##gdf['gain'] = gdf.woa_o2sat / gdf.o2sat\n",
    "##gdf\n",
    "#gdf.groupby(level=['wmo']).gain.mean()\n",
    "##gdf.gain.unstack('wmo').plot()\n",
    "##plot(gdf.date, gdf..gain)"
   ]
  },
  {
   "cell_type": "code",
   "execution_count": 13,
   "metadata": {
    "collapsed": false,
    "scrolled": true
   },
   "outputs": [
    {
     "data": {
      "text/plain": [
       "<matplotlib.axes._subplots.AxesSubplot at 0x7f7147d94990>"
      ]
     },
     "execution_count": 13,
     "metadata": {},
     "output_type": "execute_result"
    },
    {
     "data": {
      "image/png": "[encoded data removed]",
      "text/plain": [
       "<matplotlib.figure.Figure at 0x7f71485b9790>"
      ]
     },
     "metadata": {},
     "output_type": "display_data"
    }
   ],
   "source": [
    "gdf['gain'] = gdf.woa_o2sat / gdf.o2sat\n",
    "gdf[['gain']].unstack(level=0).plot()"
   ]
  },
  {
   "cell_type": "code",
   "execution_count": 17,
   "metadata": {
    "collapsed": false
   },
   "outputs": [
    {
     "data": {
      "text/plain": [
       "1.0390079718347851"
      ]
     },
     "execution_count": 17,
     "metadata": {},
     "output_type": "execute_result"
    }
   ],
   "source": [
    "gdf.gain.mean()"
   ]
  },
  {
   "cell_type": "code",
   "execution_count": null,
   "metadata": {
    "collapsed": true
   },
   "outputs": [],
   "source": []
  }
 ],
 "metadata": {
  "kernelspec": {
   "display_name": "Python 2",
   "language": "python",
   "name": "python2"
  },
  "language_info": {
   "codemirror_mode": {
    "name": "ipython",
    "version": 2
   },
   "file_extension": ".py",
   "mimetype": "text/x-python",
   "name": "python",
   "nbconvert_exporter": "python",
   "pygments_lexer": "ipython2",
   "version": "2.7.9"
  }
 },
 "nbformat": 4,
 "nbformat_minor": 0
}
