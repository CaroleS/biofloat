{
 "cells": [
  {
   "cell_type": "markdown",
   "metadata": {},
   "source": [
    "### Build local cache file from Argo data sources\n",
    "*Execute commands to pull data from the Internet into a local HDF file so that we can better interact with the data*"
   ]
  },
  {
   "cell_type": "markdown",
   "metadata": {},
   "source": [
    "Import the OxyFloat class and instatiate an OxyFloat object (`of`) with debug output turned on."
   ]
  },
  {
   "cell_type": "code",
   "execution_count": 1,
   "metadata": {
    "collapsed": true
   },
   "outputs": [],
   "source": [
    "from oxyfloat import OxyFloat\n",
    "of = OxyFloat(debug=True)"
   ]
  },
  {
   "cell_type": "markdown",
   "metadata": {},
   "source": [
    "Call the write_status() method which reads the status data and writes it to a local file, report the time it took."
   ]
  },
  {
   "cell_type": "code",
   "execution_count": 2,
   "metadata": {
    "collapsed": false
   },
   "outputs": [
    {
     "name": "stderr",
     "output_type": "stream",
     "text": [
      "DEBUG:oxyfloat.OxyFloat:Reading data from http://argo.jcommops.org/FTPRoot/Argo/Status/argo_all.txt\n",
      "DEBUG:oxyfloat.OxyFloat:Saving DataFrame to name status in file oxyfloat_cache.hdf\n"
     ]
    },
    {
     "name": "stdout",
     "output_type": "stream",
     "text": [
      "CPU times: user 257 ms, sys: 177 ms, total: 434 ms\n",
      "Wall time: 35.9 s\n"
     ]
    },
    {
     "name": "stderr",
     "output_type": "stream",
     "text": [
      "oxyfloat/OxyFloat.py:103: PerformanceWarning: \n",
      "your performance may suffer as PyTables will pickle object types that it cannot\n",
      "map directly to c-types [inferred_type->mixed,key->block2_values] [items->['WMO', 'TELECOM', 'TTYPE', 'MY_ID', 'SERIAL_NO', 'DATE0', 'NOTIF_DATE', 'SHIP', 'CRUISE', 'DATE_', 'MODEL', 'FULL_NAME', 'EMAIL', 'PROGRAM', 'COUNTRY']]\n",
      "\n",
      "  self.put_df(self.status_to_df(), 'status', self.cache_file)\n"
     ]
    }
   ],
   "source": [
    "%%time\n",
    "of.write_status()"
   ]
  },
  {
   "cell_type": "markdown",
   "metadata": {},
   "source": [
    "The PerformanceWarning can be ignored - for this small table it doesn't matter much. Now, read the data from the HDF file into DataFrame object `df`. "
   ]
  },
  {
   "cell_type": "code",
   "execution_count": 3,
   "metadata": {
    "collapsed": false
   },
   "outputs": [],
   "source": [
    "df = of.read_status()"
   ]
  },
  {
   "cell_type": "markdown",
   "metadata": {},
   "source": [
    "We can examine some of the columns that are of interest for selecting floats with qualifying attributes."
   ]
  },
  {
   "cell_type": "code",
   "execution_count": 4,
   "metadata": {
    "collapsed": false
   },
   "outputs": [
    {
     "data": {
      "text/html": [
       "<div>\n",
       "<table border=\"1\" class=\"dataframe\">\n",
       "  <thead>\n",
       "    <tr style=\"text-align: right;\">\n",
       "      <th></th>\n",
       "      <th>WMO</th>\n",
       "      <th>OXYGEN</th>\n",
       "      <th>GREYLIST</th>\n",
       "      <th>AGE</th>\n",
       "    </tr>\n",
       "  </thead>\n",
       "  <tbody>\n",
       "    <tr>\n",
       "      <th>0</th>\n",
       "      <td>6900877</td>\n",
       "      <td>1</td>\n",
       "      <td>0</td>\n",
       "      <td>481.3480</td>\n",
       "    </tr>\n",
       "    <tr>\n",
       "      <th>1</th>\n",
       "      <td>6900876</td>\n",
       "      <td>1</td>\n",
       "      <td>0</td>\n",
       "      <td>481.3574</td>\n",
       "    </tr>\n",
       "    <tr>\n",
       "      <th>2</th>\n",
       "      <td>6902554</td>\n",
       "      <td>0</td>\n",
       "      <td>0</td>\n",
       "      <td>482.6291</td>\n",
       "    </tr>\n",
       "    <tr>\n",
       "      <th>3</th>\n",
       "      <td>6902553</td>\n",
       "      <td>0</td>\n",
       "      <td>0</td>\n",
       "      <td>492.4063</td>\n",
       "    </tr>\n",
       "    <tr>\n",
       "      <th>4</th>\n",
       "      <td>6902552</td>\n",
       "      <td>0</td>\n",
       "      <td>0</td>\n",
       "      <td>492.5313</td>\n",
       "    </tr>\n",
       "  </tbody>\n",
       "</table>\n",
       "</div>"
      ],
      "text/plain": [
       "       WMO  OXYGEN  GREYLIST       AGE\n",
       "0  6900877       1         0  481.3480\n",
       "1  6900876       1         0  481.3574\n",
       "2  6902554       0         0  482.6291\n",
       "3  6902553       0         0  492.4063\n",
       "4  6902552       0         0  492.5313"
      ]
     },
     "execution_count": 4,
     "metadata": {},
     "output_type": "execute_result"
    }
   ],
   "source": [
    "df.ix[:,['WMO', 'OXYGEN', 'GREYLIST', 'AGE']].head()"
   ]
  },
  {
   "cell_type": "markdown",
   "metadata": {},
   "source": [
    "Now that we have a local cache of the status table we don't need wait the 21 seconds it takes to read the data from the Internet and built the DataFrame. We just need to do this:\n",
    "\n",
    "    from oxyfloat import OxyFloat\n",
    "    of = OxyFloat()\n",
    "    df = of.read_status()\n",
    "    \n",
    "each time we want to perform an analysis. As the status changes we'll occasionally want to update our cache with another call to `.write_status()`."
   ]
  }
 ],
 "metadata": {
  "kernelspec": {
   "display_name": "Python 2",
   "language": "python",
   "name": "python2"
  },
  "language_info": {
   "codemirror_mode": {
    "name": "ipython",
    "version": 2
   },
   "file_extension": ".py",
   "mimetype": "text/x-python",
   "name": "python",
   "nbconvert_exporter": "python",
   "pygments_lexer": "ipython2",
   "version": "2.7.9"
  }
 },
 "nbformat": 4,
 "nbformat_minor": 0
}
